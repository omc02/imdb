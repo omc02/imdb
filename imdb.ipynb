{
 "cells": [
  {
   "cell_type": "code",
   "execution_count": 1,
   "metadata": {},
   "outputs": [],
   "source": [
    "## Installing packages\n",
    "import pandas as pd\n",
    "import numpy as np"
   ]
  },
  {
   "cell_type": "code",
   "execution_count": 2,
   "metadata": {},
   "outputs": [],
   "source": [
    "## Importing dataset\n",
    "df = pd.read_csv(r\"IMDBdata_MainData.csv\")"
   ]
  },
  {
   "cell_type": "code",
   "execution_count": 3,
   "metadata": {},
   "outputs": [
    {
     "data": {
      "text/plain": [
       "Index(['Title', 'Year', 'Rated', 'Released', 'Runtime', 'Genre', 'Director',\n",
       "       'Writer', 'Actors', 'Plot', 'Language', 'Country', 'Awards', 'Poster',\n",
       "       'Ratings.Source', 'Ratings.Value', 'Metascore', 'imdbRating',\n",
       "       'imdbVotes', 'imdbID', 'Type', 'DVD', 'BoxOffice', 'Production',\n",
       "       'Website', 'Response', 'tomatoURL'],\n",
       "      dtype='object')"
      ]
     },
     "execution_count": 3,
     "metadata": {},
     "output_type": "execute_result"
    }
   ],
   "source": [
    "## Checking column names \n",
    "df.columns"
   ]
  },
  {
   "cell_type": "code",
   "execution_count": 4,
   "metadata": {},
   "outputs": [
    {
     "name": "stdout",
     "output_type": "stream",
     "text": [
      "Number of duplicated records are: 0\n"
     ]
    }
   ],
   "source": [
    "## Checking for duplicated \n",
    "def duplicates_check(df):\n",
    "    duplicated_record = df.duplicated().sum()\n",
    "    return print(f\"Number of duplicated records are: {duplicated_record}\")\n",
    "duplicates_check(df)"
   ]
  },
  {
   "cell_type": "code",
   "execution_count": 5,
   "metadata": {},
   "outputs": [
    {
     "name": "stdout",
     "output_type": "stream",
     "text": [
      "<class 'pandas.core.frame.DataFrame'>\n",
      "RangeIndex: 5273 entries, 0 to 5272\n",
      "Data columns (total 27 columns):\n",
      " #   Column          Non-Null Count  Dtype  \n",
      "---  ------          --------------  -----  \n",
      " 0   Title           5273 non-null   object \n",
      " 1   Year            5273 non-null   int64  \n",
      " 2   Rated           4815 non-null   object \n",
      " 3   Released        5235 non-null   object \n",
      " 4   Runtime         5257 non-null   object \n",
      " 5   Genre           5271 non-null   object \n",
      " 6   Director        5272 non-null   object \n",
      " 7   Writer          5221 non-null   object \n",
      " 8   Actors          5266 non-null   object \n",
      " 9   Plot            5262 non-null   object \n",
      " 10  Language        5262 non-null   object \n",
      " 11  Country         5271 non-null   object \n",
      " 12  Awards          4462 non-null   object \n",
      " 13  Poster          5260 non-null   object \n",
      " 14  Ratings.Source  5273 non-null   object \n",
      " 15  Ratings.Value   5273 non-null   object \n",
      " 16  Metascore       3876 non-null   float64\n",
      " 17  imdbRating      5273 non-null   float64\n",
      " 18  imdbVotes       5273 non-null   object \n",
      " 19  imdbID          5273 non-null   object \n",
      " 20  Type            5273 non-null   object \n",
      " 21  DVD             4882 non-null   object \n",
      " 22  BoxOffice       2634 non-null   object \n",
      " 23  Production      4945 non-null   object \n",
      " 24  Website         3472 non-null   object \n",
      " 25  Response        5273 non-null   bool   \n",
      " 26  tomatoURL       5187 non-null   object \n",
      "dtypes: bool(1), float64(2), int64(1), object(23)\n",
      "memory usage: 1.1+ MB\n"
     ]
    }
   ],
   "source": [
    "df.info()"
   ]
  },
  {
   "cell_type": "code",
   "execution_count": 6,
   "metadata": {},
   "outputs": [],
   "source": [
    "def cleaning_dataset(df):\n",
    "\n",
    "    columns_to_drop = ['tomatoURL', 'Website', 'Response', 'Poster','Ratings.Source', 'Plot', 'Released','DVD','Rated','Type','Ratings.Value']\n",
    "    df = df.drop(columns=[col for col in columns_to_drop if col in df.columns], errors='ignore')\n",
    "    \n",
    "    # Ensure 'Runtime' column is treated as a string and process it\n",
    "    if 'Runtime' in df.columns:\n",
    "        df['Runtime'] = df['Runtime'].astype(str).str.replace(' min', '', regex=False).str.strip()\n",
    "        df['Runtime'] = pd.to_numeric(df['Runtime'], errors='coerce')  # Convert to numeric, handling invalid entries as NaN\n",
    "        df['Runtime'] = df['Runtime'].fillna(0).astype(int)  # Replace null values with 0 and convert to integer\n",
    "    \n",
    "    # Ensure 'BoxOffice' column is treated as a string and process it\n",
    "    if 'BoxOffice' in df.columns:\n",
    "        df['BoxOffice'] = df['BoxOffice'].astype(str).str.replace('$', '', regex=False).str.replace(',', '', regex=False).str.strip()\n",
    "        df['BoxOffice'] = pd.to_numeric(df['BoxOffice'], errors='coerce')  # Convert to numeric, handling invalid entries as NaN\n",
    "        df['BoxOffice'] = df['BoxOffice'].fillna(0).astype(int)  # Replace null values with 0 and convert to integer\n",
    "    \n",
    "    # Handle 'Metascore' column\n",
    "    if 'Metascore' in df.columns:\n",
    "        df['Metascore'] = pd.to_numeric(df['Metascore'], errors='coerce')  # Convert to numeric, handling invalid entries as NaN\n",
    "        df['Metascore'] = df['Metascore'].fillna(0).astype(int)  # Replace null values with 0 and convert to integer\n",
    "\n",
    "    # Ensure 'imdbVotes' column is processed correctly\n",
    "    if 'imdbVotes' in df.columns:\n",
    "        df['imdbVotes'] = df['imdbVotes'].astype(str).str.replace(',', '', regex=False).str.strip()  # Remove commas\n",
    "\n",
    "    # Replace missing values in 'Writer', 'Actors', 'Language', and 'Country' with 'Not Available'\n",
    "    for column in ['Writer', 'Actors', 'Language', 'Country', 'Production','Genre','Director']:\n",
    "        if column in df.columns:\n",
    "            df[column] = df[column].fillna('Not Available')\n",
    "\n",
    "    # Drop the 'Metascore' column if it exists - It has ~97% missing values\n",
    "    if 'Metascore' in df.columns:\n",
    "        df = df.drop(columns=['Metascore'])\n",
    "\n",
    "    # Drop the 'Awards' column if it exists - Free form column\n",
    "    if 'Awards' in df.columns:\n",
    "        df = df.drop(columns=['Awards'])\n",
    "\n",
    "    # Create a new 'Decade' column based on 'Year'\n",
    "    if 'Year' in df.columns:\n",
    "        df['Year'] = pd.to_numeric(df['Year'], errors='coerce')  # Convert to numeric, handling invalid entries as NaN\n",
    "        df['Decade'] = df['Year'].apply(lambda x: (x // 10) * 10 if pd.notnull(x) else None)\n",
    "\n",
    "    return df\n",
    "\n",
    "# Apply the updated function to the dataset\n",
    "df = cleaning_dataset(df)"
   ]
  },
  {
   "cell_type": "code",
   "execution_count": null,
   "metadata": {},
   "outputs": [],
   "source": [
    "def cleaning_dataset_categories(df):\n",
    "    \"\"\"\n",
    "    Splits the 'Language' and 'Genre' columns into individual categories and reshapes the table vertically,\n",
    "    creating a row for each language and genre associated with a movie.\n",
    "\n",
    "    Parameters:\n",
    "    df (pd.DataFrame): The input dataframe.\n",
    "\n",
    "    Returns:\n",
    "    pd.DataFrame: The updated dataframe with one row per language and genre per movie.\n",
    "    \"\"\"\n",
    "    # Process Language column\n",
    "    if 'Language' in df.columns:\n",
    "        df['Language'] = df['Language'].str.split(',')\n",
    "        df = df.explode('Language')\n",
    "        df['Language'] = df['Language'].str.strip()  # Remove extra spaces\n",
    "\n",
    "    # Process Genre column\n",
    "    if 'Genre' in df.columns:\n",
    "        df['Genre'] = df['Genre'].str.split(',')\n",
    "        df = df.explode('Genre')\n",
    "        df['Genre'] = df['Genre'].str.strip()  # Remove extra spaces\n",
    "\n",
    "    # Process Country column\n",
    "    if 'Country' in df.columns:\n",
    "        df['Country'] = df['Country'].str.split(',')\n",
    "        df = df.explode('Country')\n",
    "        df['Country'] = df['Country'].str.strip()  # Remove extra spaces\n",
    "\n",
    "    # Process Director column\n",
    "    if 'Director' in df.columns:\n",
    "        df['Director'] = df['Director'].str.split(',')\n",
    "        df = df.explode('Director')\n",
    "        df['Director'] = df['Director'].str.strip()  # Remove extra spaces\n",
    "\n",
    "    # Process Writer column\n",
    "    if 'Writer' in df.columns:\n",
    "        df['Writer'] = df['Writer'].str.split(',')\n",
    "        df = df.explode('Writer')\n",
    "        df['Writer'] = df['Writer'].str.strip()  # Remove extra spaces\n",
    "\n",
    "    # Process Writer column\n",
    "    if 'Actors' in df.columns:\n",
    "        df['Actors'] = df['Actors'].str.split(',')\n",
    "        df = df.explode('Actors')\n",
    "        df['Actors'] = df['Actors'].str.strip()  # Remove extra spaces\n",
    "\n",
    "    return df\n",
    "\n",
    "# Apply the function to the dataset\n",
    "df = cleaning_dataset_categories(df)"
   ]
  }
 ],
 "metadata": {
  "kernelspec": {
   "display_name": "Python 3",
   "language": "python",
   "name": "python3"
  },
  "language_info": {
   "codemirror_mode": {
    "name": "ipython",
    "version": 3
   },
   "file_extension": ".py",
   "mimetype": "text/x-python",
   "name": "python",
   "nbconvert_exporter": "python",
   "pygments_lexer": "ipython3",
   "version": "3.12.4"
  }
 },
 "nbformat": 4,
 "nbformat_minor": 2
}
